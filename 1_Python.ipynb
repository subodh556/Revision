{
 "cells": [
  {
   "cell_type": "markdown",
   "metadata": {},
   "source": [
    "\n",
    "![alt text](data/image.png)\n",
    "\n",
    "![alt text](data/image-1.png)\n",
    "\n",
    "![alt text](data/image-2.png)\n",
    "\n",
    "![alt text](data/image-3.png)\n",
    "\n",
    "![alt text](data/image-4.png)\n",
    "\n",
    "![alt text](data/image-5.png)\n",
    "\n",
    "![alt text](data/image-6.png)\n",
    "\n",
    "![alt text](data/image-7.png)\n",
    "\n",
    "![alt text](data/image-8.png)\n",
    "\n"
   ]
  }
 ],
 "metadata": {
  "kernelspec": {
   "display_name": "llmapp",
   "language": "python",
   "name": "python3"
  },
  "language_info": {
   "name": "python",
   "version": "3.11.11"
  }
 },
 "nbformat": 4,
 "nbformat_minor": 2
}

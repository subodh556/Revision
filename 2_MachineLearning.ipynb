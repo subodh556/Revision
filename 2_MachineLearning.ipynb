{
 "cells": [
  {
   "cell_type": "markdown",
   "metadata": {},
   "source": [
    "![alt text](data/image-9.png)\n",
    "\n",
    "![alt text](data/image-10.png)\n",
    "\n",
    "![alt text](data/image-11.png)\n",
    "\n",
    "![alt text](data/image-12.png)\n",
    "\n",
    "![alt text](data/image-13.png)\n",
    "\n",
    "![alt text](data/image-14.png)\n",
    "\n",
    "![alt text](data/image-15.png)\n",
    "\n",
    "![alt text](data/image-16.png)\n",
    "\n",
    "![alt text](data/image-17.png)\n",
    "\n",
    "![alt text](data/image-18.png)\n",
    "\n",
    "![alt text](data/image-19.png)\n",
    "\n"
   ]
  }
 ],
 "metadata": {
  "kernelspec": {
   "display_name": "llmapp",
   "language": "python",
   "name": "python3"
  },
  "language_info": {
   "name": "python",
   "version": "3.11.11"
  }
 },
 "nbformat": 4,
 "nbformat_minor": 2
}
